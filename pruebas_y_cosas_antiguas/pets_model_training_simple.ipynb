{
 "cells": [
  {
   "cell_type": "markdown",
   "id": "d4f98308",
   "metadata": {},
   "source": [
    "# Entrenamiento de un Modelo para Clasificación de Mascotas (Simplificado)"
   ]
  },
  {
   "cell_type": "code",
   "execution_count": null,
   "id": "ca1e72d2",
   "metadata": {},
   "outputs": [],
   "source": [
    "\n",
    "# Importar bibliotecas necesarias\n",
    "import pandas as pd\n",
    "from sklearn.model_selection import train_test_split\n",
    "from sklearn.ensemble import RandomForestClassifier\n",
    "from sklearn.metrics import classification_report, accuracy_score\n",
    "    "
   ]
  },
  {
   "cell_type": "code",
   "execution_count": null,
   "id": "6fc49cd5",
   "metadata": {},
   "outputs": [],
   "source": [
    "\n",
    "# Cargar el dataset\n",
    "pets = pd.read_csv(\"/content/drive/MyDrive/datasets/pets.csv\")\n",
    "\n",
    "# Mostrar las primeras filas del dataset\n",
    "pets.head()\n",
    "    "
   ]
  },
  {
   "cell_type": "code",
   "execution_count": null,
   "id": "974a4865",
   "metadata": {},
   "outputs": [],
   "source": [
    "\n",
    "# Dividir el dataset en características y target\n",
    "X = pets.drop(\"pet_type\", axis=1)\n",
    "y = pets[\"pet_type\"]\n",
    "\n",
    "# Dividir los datos en entrenamiento y prueba\n",
    "X_train, X_test, y_train, y_test = train_test_split(X, y, test_size=0.2, random_state=42)\n",
    "    "
   ]
  },
  {
   "cell_type": "code",
   "execution_count": null,
   "id": "099520dd",
   "metadata": {},
   "outputs": [],
   "source": [
    "\n",
    "# Entrenar un modelo de clasificación\n",
    "model = RandomForestClassifier(random_state=42)\n",
    "model.fit(X_train, y_train)\n",
    "    "
   ]
  },
  {
   "cell_type": "code",
   "execution_count": null,
   "id": "7b9a22da",
   "metadata": {},
   "outputs": [],
   "source": [
    "\n",
    "# Evaluar el modelo\n",
    "y_pred = model.predict(X_test)\n",
    "\n",
    "# Resultados\n",
    "print(\"Accuracy:\", accuracy_score(y_test, y_pred))\n",
    "print(\"Classification Report:\\n\", classification_report(y_test, y_pred))\n",
    "    "
   ]
  }
 ],
 "metadata": {},
 "nbformat": 4,
 "nbformat_minor": 5
}

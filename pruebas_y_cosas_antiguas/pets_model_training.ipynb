{
 "cells": [
  {
   "cell_type": "markdown",
   "id": "55677fc3",
   "metadata": {},
   "source": [
    "# Entrenamiento de un Modelo para Clasificación de Mascotas"
   ]
  },
  {
   "cell_type": "code",
   "execution_count": null,
   "id": "d3a659b2",
   "metadata": {},
   "outputs": [],
   "source": [
    "\n",
    "# Importar bibliotecas necesarias\n",
    "import pandas as pd\n",
    "from sklearn.model_selection import train_test_split\n",
    "from sklearn.preprocessing import LabelEncoder\n",
    "from sklearn.ensemble import RandomForestClassifier\n",
    "from sklearn.metrics import classification_report, accuracy_score\n",
    "    "
   ]
  },
  {
   "cell_type": "code",
   "execution_count": null,
   "id": "c8cf0518",
   "metadata": {},
   "outputs": [],
   "source": [
    "\n",
    "# Cargar el dataset\n",
    "pets = pd.read_csv(\"/content/drive/MyDrive/datasets/pets.csv\")\n",
    "\n",
    "# Mostrar las primeras filas del dataset\n",
    "pets.head()\n",
    "    "
   ]
  },
  {
   "cell_type": "code",
   "execution_count": null,
   "id": "385a9ee3",
   "metadata": {},
   "outputs": [],
   "source": [
    "\n",
    "# Preprocesar el dataset\n",
    "X = pets.drop(\"pet_type\", axis=1)\n",
    "y = pets[\"pet_type\"]\n",
    "\n",
    "# Codificar variables categóricas\n",
    "X_encoded = pd.get_dummies(X, columns=[\"eye_color\", \"fur_length\"])\n",
    "\n",
    "# Codificar el target\n",
    "label_encoder = LabelEncoder()\n",
    "y_encoded = label_encoder.fit_transform(y)\n",
    "\n",
    "# Dividir los datos en entrenamiento y prueba\n",
    "X_train, X_test, y_train, y_test = train_test_split(X_encoded, y_encoded, test_size=0.2, random_state=42)\n",
    "    "
   ]
  },
  {
   "cell_type": "code",
   "execution_count": null,
   "id": "f8c0f4f2",
   "metadata": {},
   "outputs": [],
   "source": [
    "\n",
    "# Entrenar un modelo de clasificación\n",
    "model = RandomForestClassifier(random_state=42)\n",
    "model.fit(X_train, y_train)\n",
    "    "
   ]
  },
  {
   "cell_type": "code",
   "execution_count": null,
   "id": "926dfc57",
   "metadata": {},
   "outputs": [],
   "source": [
    "\n",
    "# Evaluar el modelo\n",
    "y_pred = model.predict(X_test)\n",
    "\n",
    "# Resultados\n",
    "print(\"Accuracy:\", accuracy_score(y_test, y_pred))\n",
    "print(\"Classification Report:\\n\", classification_report(y_test, y_pred, target_names=label_encoder.classes_))\n",
    "    "
   ]
  }
 ],
 "metadata": {},
 "nbformat": 4,
 "nbformat_minor": 5
}
